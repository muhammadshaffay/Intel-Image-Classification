{
 "cells": [
  {
   "cell_type": "code",
   "execution_count": 18,
   "metadata": {
    "execution": {
     "iopub.execute_input": "2023-09-19T13:39:24.351385Z",
     "iopub.status.busy": "2023-09-19T13:39:24.350132Z",
     "iopub.status.idle": "2023-09-19T13:39:24.356319Z",
     "shell.execute_reply": "2023-09-19T13:39:24.355096Z",
     "shell.execute_reply.started": "2023-09-19T13:39:24.351338Z"
    }
   },
   "outputs": [],
   "source": [
    "import warnings\n",
    "\n",
    "# Ignore all warnings\n",
    "warnings.filterwarnings(\"ignore\")"
   ]
  },
  {
   "cell_type": "markdown",
   "metadata": {},
   "source": [
    "## Chat-GPT Code"
   ]
  },
  {
   "cell_type": "markdown",
   "metadata": {},
   "source": [
    "#### Imports"
   ]
  },
  {
   "cell_type": "code",
   "execution_count": 1,
   "metadata": {
    "execution": {
     "iopub.execute_input": "2023-09-19T13:08:13.787397Z",
     "iopub.status.busy": "2023-09-19T13:08:13.787011Z",
     "iopub.status.idle": "2023-09-19T13:08:15.515291Z",
     "shell.execute_reply": "2023-09-19T13:08:15.514264Z",
     "shell.execute_reply.started": "2023-09-19T13:08:13.787365Z"
    }
   },
   "outputs": [],
   "source": [
    "import torch\n",
    "import torchvision\n",
    "import torchvision.transforms as transforms\n",
    "import torch.nn as nn\n",
    "import torch.optim as optim\n",
    "import matplotlib.pyplot as plt\n",
    "import numpy as np"
   ]
  },
  {
   "cell_type": "markdown",
   "metadata": {},
   "source": [
    "#### Hyperparameters"
   ]
  },
  {
   "cell_type": "code",
   "execution_count": 2,
   "metadata": {
    "execution": {
     "iopub.execute_input": "2023-09-19T13:08:15.517708Z",
     "iopub.status.busy": "2023-09-19T13:08:15.517150Z",
     "iopub.status.idle": "2023-09-19T13:08:15.523508Z",
     "shell.execute_reply": "2023-09-19T13:08:15.522457Z",
     "shell.execute_reply.started": "2023-09-19T13:08:15.517674Z"
    }
   },
   "outputs": [],
   "source": [
    "batch_size = 32\n",
    "num_epochs = 10\n",
    "learning_rate = 0.05\n",
    "\n",
    "transform = transforms.Compose(\n",
    "  [transforms.Resize((224, 224)), # Resize images to 224x224 pixels\n",
    "  transforms.ToTensor(), # Convert images to tensors\n",
    "  transforms.Normalize((0.5, 0.5, 0.5), (0.5, 0.5, 0.5))]) # Normalize images"
   ]
  },
  {
   "cell_type": "markdown",
   "metadata": {},
   "source": [
    "#### Train-Validation-Test Sets"
   ]
  },
  {
   "cell_type": "code",
   "execution_count": 3,
   "metadata": {
    "execution": {
     "iopub.execute_input": "2023-09-19T13:08:15.525945Z",
     "iopub.status.busy": "2023-09-19T13:08:15.525164Z",
     "iopub.status.idle": "2023-09-19T13:08:18.792273Z",
     "shell.execute_reply": "2023-09-19T13:08:18.791265Z",
     "shell.execute_reply.started": "2023-09-19T13:08:15.525911Z"
    }
   },
   "outputs": [
    {
     "name": "stdout",
     "output_type": "stream",
     "text": [
      "Training Set Images : 13333\n",
      "Training Set Images : 701\n"
     ]
    }
   ],
   "source": [
    "TRAIN_PATH = \"/kaggle/input/intel-image-classification/seg_train/seg_train\"\n",
    "trainset = torchvision.datasets.ImageFolder(root=TRAIN_PATH, transform=transform)\n",
    "\n",
    "validation_size = int(0.05 * len(trainset))\n",
    "training_size = len(trainset) - validation_size\n",
    "\n",
    "trainset , validationset = torch.utils.data.random_split(trainset, [training_size,validation_size]) \n",
    "\n",
    "trainloader = torch.utils.data.DataLoader(trainset, batch_size=batch_size, shuffle=True)\n",
    "print(f\"Training Set Images : {len(trainset)}\")\n",
    "\n",
    "validationloader = torch.utils.data.DataLoader(validationset, batch_size=batch_size, shuffle=True)\n",
    "print(f\"Validation Set Images : {len(validationset)}\")"
   ]
  },
  {
   "cell_type": "code",
   "execution_count": 4,
   "metadata": {
    "execution": {
     "iopub.execute_input": "2023-09-19T13:08:18.796353Z",
     "iopub.status.busy": "2023-09-19T13:08:18.795663Z",
     "iopub.status.idle": "2023-09-19T13:08:18.831953Z",
     "shell.execute_reply": "2023-09-19T13:08:18.830932Z",
     "shell.execute_reply.started": "2023-09-19T13:08:18.796317Z"
    }
   },
   "outputs": [
    {
     "name": "stdout",
     "output_type": "stream",
     "text": [
      "Testing Set Images : 3000\n"
     ]
    }
   ],
   "source": [
    "TEST_PATH = \"/kaggle/input/intel-image-classification/seg_test/seg_test\"\n",
    "testset = torchvision.datasets.ImageFolder(root=TEST_PATH, transform=transform)\n",
    "testloader = torch.utils.data.DataLoader(testset, batch_size=batch_size, shuffle=False)\n",
    "print(f\"Testing Set Images : {len(testset)}\")"
   ]
  },
  {
   "cell_type": "markdown",
   "metadata": {},
   "source": [
    "#### Architecture"
   ]
  },
  {
   "cell_type": "code",
   "execution_count": 5,
   "metadata": {
    "execution": {
     "iopub.execute_input": "2023-09-19T13:08:18.833979Z",
     "iopub.status.busy": "2023-09-19T13:08:18.833603Z",
     "iopub.status.idle": "2023-09-19T13:08:18.844019Z",
     "shell.execute_reply": "2023-09-19T13:08:18.842880Z",
     "shell.execute_reply.started": "2023-09-19T13:08:18.833943Z"
    }
   },
   "outputs": [],
   "source": [
    "class IntelNet(nn.Module):\n",
    "    \n",
    "    def __init__(self):\n",
    "            super(IntelNet, self).__init__()\n",
    "        \n",
    "           # Convolutional layers\n",
    "            self.conv1 = nn.Conv2d(3, 16, 3) # Input channels: 3, output channels: 16, kernel size: 3\n",
    "            self.conv2 = nn.Conv2d(16, 32, 3) # Input channels: 16, output channels: 32, kernel size: 3\n",
    "            self.conv3 = nn.Conv2d(32, 64, 3) # Input channels: 32, output channels: 64, kernel size: 3\n",
    "        \n",
    "           # Pooling layer\n",
    "            self.pool = nn.MaxPool2d(2, 2) # Kernel size: 2, stride: 2\n",
    "        \n",
    "           # Fully connected layers\n",
    "            self.fc1 = nn.Linear(64 * 26 * 26, 256) # Input features: 64 * 26 * 26, output features: 256\n",
    "            self.fc2 = nn.Linear(256, 6) # Input features: 256, output features: 17 (number of classes)\n",
    "            \n",
    "           # Activation function\n",
    "            self.relu = nn.ReLU()\n",
    "\n",
    "    def forward(self, x):\n",
    "        \n",
    "           # Apply convolutional layers and pooling layers\n",
    "            x = self.pool(self.relu(self.conv1(x)))\n",
    "            x = self.pool(self.relu(self.conv2(x)))\n",
    "            x = self.pool(self.relu(self.conv3(x)))\n",
    "        \n",
    "           # Flatten the output\n",
    "            x = x.view(-1, 64 * 26 * 26)\n",
    "        \n",
    "           # Apply fully connected layers\n",
    "            x = self.relu(self.fc1(x))\n",
    "            x = self.fc2(x)\n",
    "            \n",
    "            return x"
   ]
  },
  {
   "cell_type": "markdown",
   "metadata": {},
   "source": [
    "#### Activate GPUs"
   ]
  },
  {
   "cell_type": "code",
   "execution_count": 6,
   "metadata": {
    "execution": {
     "iopub.execute_input": "2023-09-19T13:08:18.846664Z",
     "iopub.status.busy": "2023-09-19T13:08:18.845917Z",
     "iopub.status.idle": "2023-09-19T13:08:18.931078Z",
     "shell.execute_reply": "2023-09-19T13:08:18.929935Z",
     "shell.execute_reply.started": "2023-09-19T13:08:18.846632Z"
    }
   },
   "outputs": [
    {
     "data": {
      "text/plain": [
       "'cuda'"
      ]
     },
     "execution_count": 6,
     "metadata": {},
     "output_type": "execute_result"
    }
   ],
   "source": [
    "device = \"cuda\" if torch.cuda.is_available() else \"cpu\"\n",
    "device"
   ]
  },
  {
   "cell_type": "markdown",
   "metadata": {},
   "source": [
    "#### Training & Validating"
   ]
  },
  {
   "cell_type": "code",
   "execution_count": 7,
   "metadata": {
    "execution": {
     "iopub.execute_input": "2023-09-19T13:08:18.933477Z",
     "iopub.status.busy": "2023-09-19T13:08:18.932489Z",
     "iopub.status.idle": "2023-09-19T13:08:20.681661Z",
     "shell.execute_reply": "2023-09-19T13:08:20.680477Z",
     "shell.execute_reply.started": "2023-09-19T13:08:18.933437Z"
    }
   },
   "outputs": [],
   "source": [
    "# Create an instance of the model\n",
    "model = IntelNet().to(device)\n",
    "\n",
    "# Define the loss function and the optimizer\n",
    "criterion = nn.CrossEntropyLoss()\n",
    "optimizer = optim.SGD(model.parameters(), lr=learning_rate)"
   ]
  },
  {
   "cell_type": "code",
   "execution_count": 8,
   "metadata": {
    "execution": {
     "iopub.execute_input": "2023-09-19T13:08:20.683740Z",
     "iopub.status.busy": "2023-09-19T13:08:20.683357Z",
     "iopub.status.idle": "2023-09-19T13:24:25.537581Z",
     "shell.execute_reply": "2023-09-19T13:24:25.536558Z",
     "shell.execute_reply.started": "2023-09-19T13:08:20.683707Z"
    }
   },
   "outputs": [
    {
     "name": "stdout",
     "output_type": "stream",
     "text": [
      "\n",
      "\n",
      "Processing Epoch : 1\n",
      ".. .. Training\n",
      "[1,   200] loss: 1.316 accuracy: 0.463\n",
      "[1,   400] loss: 1.035 accuracy: 0.590\n",
      ".. .. Validating\n",
      "Epoch [1/15] Training loss: 0.045 accuracy: 0.023 | Validation loss: 0.950 accuracy: 0.648\n",
      "\n",
      "\n",
      "Processing Epoch : 2\n",
      ".. .. Training\n",
      "[2,   200] loss: 0.922 accuracy: 0.641\n",
      "[2,   400] loss: 0.827 accuracy: 0.685\n",
      ".. .. Validating\n",
      "Epoch [2/15] Training loss: 0.029 accuracy: 0.029 | Validation loss: 0.706 accuracy: 0.729\n",
      "\n",
      "\n",
      "Processing Epoch : 3\n",
      ".. .. Training\n",
      "[3,   200] loss: 0.712 accuracy: 0.734\n",
      "[3,   400] loss: 0.655 accuracy: 0.758\n",
      ".. .. Validating\n",
      "Epoch [3/15] Training loss: 0.026 accuracy: 0.030 | Validation loss: 0.774 accuracy: 0.717\n",
      "\n",
      "\n",
      "Processing Epoch : 4\n",
      ".. .. Training\n",
      "[4,   200] loss: 0.548 accuracy: 0.807\n",
      "[4,   400] loss: 0.546 accuracy: 0.794\n",
      ".. .. Validating\n",
      "Epoch [4/15] Training loss: 0.022 accuracy: 0.032 | Validation loss: 0.581 accuracy: 0.773\n",
      "\n",
      "\n",
      "Processing Epoch : 5\n",
      ".. .. Training\n",
      "[5,   200] loss: 0.439 accuracy: 0.844\n",
      "[5,   400] loss: 0.403 accuracy: 0.851\n",
      ".. .. Validating\n",
      "Epoch [5/15] Training loss: 0.018 accuracy: 0.033 | Validation loss: 0.707 accuracy: 0.743\n",
      "\n",
      "\n",
      "Processing Epoch : 6\n",
      ".. .. Training\n",
      "[6,   200] loss: 0.395 accuracy: 0.867\n",
      "[6,   400] loss: 0.325 accuracy: 0.883\n",
      ".. .. Validating\n",
      "Epoch [6/15] Training loss: 0.011 accuracy: 0.036 | Validation loss: 0.755 accuracy: 0.761\n",
      "\n",
      "\n",
      "Processing Epoch : 7\n",
      ".. .. Training\n",
      "[7,   200] loss: 0.228 accuracy: 0.923\n",
      "[7,   400] loss: 0.199 accuracy: 0.927\n",
      ".. .. Validating\n",
      "Epoch [7/15] Training loss: 0.006 accuracy: 0.038 | Validation loss: 1.411 accuracy: 0.686\n",
      "\n",
      "\n",
      "Processing Epoch : 8\n",
      ".. .. Training\n",
      "[8,   200] loss: 0.099 accuracy: 0.967\n",
      "[8,   400] loss: 0.203 accuracy: 0.938\n",
      ".. .. Validating\n",
      "Epoch [8/15] Training loss: 0.007 accuracy: 0.038 | Validation loss: 0.794 accuracy: 0.784\n",
      "\n",
      "\n",
      "Processing Epoch : 9\n",
      ".. .. Training\n",
      "[9,   200] loss: 0.061 accuracy: 0.981\n",
      "[9,   400] loss: 0.096 accuracy: 0.972\n",
      ".. .. Validating\n",
      "Epoch [9/15] Training loss: 0.003 accuracy: 0.039 | Validation loss: 0.956 accuracy: 0.786\n",
      "\n",
      "\n",
      "Processing Epoch : 10\n",
      ".. .. Training\n",
      "[10,   200] loss: 0.027 accuracy: 0.994\n",
      "[10,   400] loss: 0.053 accuracy: 0.988\n",
      ".. .. Validating\n",
      "Epoch [10/15] Training loss: 0.002 accuracy: 0.039 | Validation loss: 1.033 accuracy: 0.778\n",
      "\n",
      "\n",
      "Processing Epoch : 11\n",
      ".. .. Training\n",
      "[11,   200] loss: 0.025 accuracy: 0.994\n",
      "[11,   400] loss: 0.026 accuracy: 0.994\n",
      ".. .. Validating\n",
      "Epoch [11/15] Training loss: 0.002 accuracy: 0.039 | Validation loss: 1.202 accuracy: 0.777\n",
      "\n",
      "\n",
      "Processing Epoch : 12\n",
      ".. .. Training\n",
      "[12,   200] loss: 0.014 accuracy: 0.998\n",
      "[12,   400] loss: 0.012 accuracy: 0.998\n",
      ".. .. Validating\n",
      "Epoch [12/15] Training loss: 0.000 accuracy: 0.040 | Validation loss: 1.216 accuracy: 0.784\n",
      "\n",
      "\n",
      "Processing Epoch : 13\n",
      ".. .. Training\n",
      "[13,   200] loss: 0.005 accuracy: 0.999\n",
      "[13,   400] loss: 0.016 accuracy: 0.996\n",
      ".. .. Validating\n",
      "Epoch [13/15] Training loss: 0.001 accuracy: 0.040 | Validation loss: 1.210 accuracy: 0.777\n",
      "\n",
      "\n",
      "Processing Epoch : 14\n",
      ".. .. Training\n",
      "[14,   200] loss: 0.005 accuracy: 0.998\n",
      "[14,   400] loss: 0.009 accuracy: 0.998\n",
      ".. .. Validating\n",
      "Epoch [14/15] Training loss: 0.000 accuracy: 0.040 | Validation loss: 1.283 accuracy: 0.783\n",
      "\n",
      "\n",
      "Processing Epoch : 15\n",
      ".. .. Training\n",
      "[15,   200] loss: 0.006 accuracy: 0.999\n",
      "[15,   400] loss: 0.006 accuracy: 0.999\n",
      ".. .. Validating\n",
      "Epoch [15/15] Training loss: 0.000 accuracy: 0.040 | Validation loss: 1.267 accuracy: 0.795\n"
     ]
    }
   ],
   "source": [
    "# Initialize lists to store training and validation losses and accuracies\n",
    "train_losses = []\n",
    "train_accuracies = []\n",
    "val_losses = []\n",
    "val_accuracies = []\n",
    "\n",
    "# Train the model\n",
    "for epoch in range(num_epochs):\n",
    "    \n",
    "    print(f\"\\n\\nProcessing Epoch : {epoch + 1}\")\n",
    "    running_loss = 0.0\n",
    "    running_acc = 0.0\n",
    "    val_loss = 0.0\n",
    "    val_acc = 0.0\n",
    "    \n",
    "    # Loop over the training batches\n",
    "    print(f\".. .. Training\")\n",
    "    for i, data in enumerate(trainloader):\n",
    "        \n",
    "        # Get the inputs and the labels\n",
    "        inputs, labels = data\n",
    "        inputs = inputs.to(device)\n",
    "        labels = labels.to(device)\n",
    "        \n",
    "        # Zero the parameter gradients\n",
    "        optimizer.zero_grad()\n",
    "        \n",
    "        # Forward pass\n",
    "        outputs = model(inputs).to(device)\n",
    "        \n",
    "        # Compute the loss and the accuracy\n",
    "        loss = criterion(outputs, labels)\n",
    "        _, preds = torch.max(outputs, 1)\n",
    "        acc = torch.sum(preds == labels).item() / batch_size\n",
    "        \n",
    "        # Backward pass and optimize\n",
    "        loss.backward()\n",
    "        optimizer.step()\n",
    "        \n",
    "        # Print statistics\n",
    "        running_loss += loss.item()\n",
    "        running_acc += acc\n",
    "        \n",
    "        if i % 200 == 199:  # Print every 200 mini-batches\n",
    "            print('[%d, %5d] loss: %.3f accuracy: %.3f' % (epoch + 1, i + 1, running_loss / 200, running_acc / 200))\n",
    "            running_loss = 0.0\n",
    "            running_acc = 0.0\n",
    "    \n",
    "    # Calculate training loss and accuracy for the epoch\n",
    "    epoch_train_loss = running_loss / len(trainloader)\n",
    "    epoch_train_acc = running_acc / len(trainloader)\n",
    "    \n",
    "    # Append training loss and accuracy to the lists\n",
    "    train_losses.append(epoch_train_loss)\n",
    "    train_accuracies.append(epoch_train_acc)\n",
    "    \n",
    "    # Loop over the validation batches\n",
    "    print(f\".. .. Validating\")\n",
    "    with torch.no_grad():\n",
    "        for data in validationloader:\n",
    "            \n",
    "            # Get the inputs and the labels\n",
    "            inputs, labels = data\n",
    "            inputs = inputs.to(device)\n",
    "            labels = labels.to(device)\n",
    "            \n",
    "            # Forward pass\n",
    "            outputs = model(inputs)\n",
    "            \n",
    "            # Compute the loss and the accuracy\n",
    "            loss = criterion(outputs, labels)\n",
    "            _, preds = torch.max(outputs, 1)\n",
    "            acc = torch.sum(preds == labels).item() / batch_size\n",
    "            \n",
    "            # Print statistics\n",
    "            val_loss += loss.item()\n",
    "            val_acc += acc\n",
    "        \n",
    "        # Calculate validation loss and accuracy for the epoch\n",
    "        epoch_val_loss = val_loss / len(validationloader)\n",
    "        epoch_val_acc = val_acc / len(validationloader)\n",
    "        \n",
    "        # Append validation loss and accuracy to the lists\n",
    "        val_losses.append(epoch_val_loss)\n",
    "        val_accuracies.append(epoch_val_acc)\n",
    "    \n",
    "    # Print training and validation results for the epoch\n",
    "    print('Epoch [%d/%d] Training loss: %.3f accuracy: %.3f | Validation loss: %.3f accuracy: %.3f' %\n",
    "          (epoch + 1, num_epochs, epoch_train_loss, epoch_train_acc, epoch_val_loss, epoch_val_acc))"
   ]
  },
  {
   "cell_type": "markdown",
   "metadata": {},
   "source": [
    "#### Visualizing Losses & Accuracy"
   ]
  },
  {
   "cell_type": "code",
   "execution_count": 13,
   "metadata": {
    "execution": {
     "iopub.execute_input": "2023-09-19T13:24:47.002560Z",
     "iopub.status.busy": "2023-09-19T13:24:47.002149Z",
     "iopub.status.idle": "2023-09-19T13:24:47.337948Z",
     "shell.execute_reply": "2023-09-19T13:24:47.337021Z",
     "shell.execute_reply.started": "2023-09-19T13:24:47.002530Z"
    }
   },
   "outputs": [
    {
     "data": {
      "image/png": "[encoded data removed]",
      "text/plain": [
       "<Figure size 1000x500 with 1 Axes>"
      ]
     },
     "metadata": {},
     "output_type": "display_data"
    }
   ],
   "source": [
    "# Plot training and validation losses\n",
    "plt.figure(figsize=(10, 5))\n",
    "plt.plot(train_losses, label='Training Loss')\n",
    "plt.plot(val_losses, label='Validation Loss')\n",
    "\n",
    "plt.xlabel('Epoch')\n",
    "plt.ylabel('Loss')\n",
    "\n",
    "plt.title('Training and Validation Losses')\n",
    "plt.legend()\n",
    "\n",
    "plt.show()"
   ]
  },
  {
   "cell_type": "code",
   "execution_count": 14,
   "metadata": {
    "execution": {
     "iopub.execute_input": "2023-09-19T13:25:04.297416Z",
     "iopub.status.busy": "2023-09-19T13:25:04.296348Z",
     "iopub.status.idle": "2023-09-19T13:25:04.654271Z",
     "shell.execute_reply": "2023-09-19T13:25:04.653146Z",
     "shell.execute_reply.started": "2023-09-19T13:25:04.297367Z"
    }
   },
   "outputs": [
    {
     "data": {
      "image/png": "[encoded data removed]",
      "text/plain": [
       "<Figure size 1000x500 with 1 Axes>"
      ]
     },
     "metadata": {},
     "output_type": "display_data"
    }
   ],
   "source": [
    "# Plot training and validation accuracies\n",
    "plt.figure(figsize=(10, 5))\n",
    "plt.plot(train_accuracies, label='Training Accuracy')\n",
    "plt.plot(val_accuracies, label='Validation Accuracy')\n",
    "\n",
    "plt.xlabel('Epoch')\n",
    "plt.ylabel('Accuracy')\n",
    "\n",
    "plt.title('Training and Validation Accuracy')\n",
    "plt.legend()\n",
    "\n",
    "plt.show()"
   ]
  },
  {
   "cell_type": "markdown",
   "metadata": {},
   "source": [
    "#### Testing"
   ]
  },
  {
   "cell_type": "code",
   "execution_count": 11,
   "metadata": {
    "execution": {
     "iopub.execute_input": "2023-09-19T13:24:26.244630Z",
     "iopub.status.busy": "2023-09-19T13:24:26.244274Z",
     "iopub.status.idle": "2023-09-19T13:24:26.252186Z",
     "shell.execute_reply": "2023-09-19T13:24:26.251193Z",
     "shell.execute_reply.started": "2023-09-19T13:24:26.244597Z"
    }
   },
   "outputs": [
    {
     "data": {
      "text/plain": [
       "IntelNet(\n",
       "  (conv1): Conv2d(3, 16, kernel_size=(3, 3), stride=(1, 1))\n",
       "  (conv2): Conv2d(16, 32, kernel_size=(3, 3), stride=(1, 1))\n",
       "  (conv3): Conv2d(32, 64, kernel_size=(3, 3), stride=(1, 1))\n",
       "  (pool): MaxPool2d(kernel_size=2, stride=2, padding=0, dilation=1, ceil_mode=False)\n",
       "  (fc1): Linear(in_features=43264, out_features=256, bias=True)\n",
       "  (fc2): Linear(in_features=256, out_features=6, bias=True)\n",
       "  (relu): ReLU()\n",
       ")"
      ]
     },
     "execution_count": 11,
     "metadata": {},
     "output_type": "execute_result"
    }
   ],
   "source": [
    "# Evaluation Mode : On\n",
    "model.eval()"
   ]
  },
  {
   "cell_type": "code",
   "execution_count": 12,
   "metadata": {
    "execution": {
     "iopub.execute_input": "2023-09-19T13:24:26.256527Z",
     "iopub.status.busy": "2023-09-19T13:24:26.253897Z",
     "iopub.status.idle": "2023-09-19T13:24:40.080826Z",
     "shell.execute_reply": "2023-09-19T13:24:40.079766Z",
     "shell.execute_reply.started": "2023-09-19T13:24:26.256501Z"
    }
   },
   "outputs": [
    {
     "name": "stdout",
     "output_type": "stream",
     "text": [
      "Test Loss: 1.211 Test Accuracy: 0.803\n"
     ]
    }
   ],
   "source": [
    "test_loss = 0.0\n",
    "test_acc = 0.0\n",
    "\n",
    "with torch.no_grad():\n",
    "    for data in testloader:\n",
    "        \n",
    "        # Get the inputs and labels\n",
    "        inputs, labels = data\n",
    "        inputs = inputs.to(device)\n",
    "        labels = labels.to(device)\n",
    "\n",
    "        # Forward pass\n",
    "        outputs = model(inputs)\n",
    "\n",
    "        # Compute the loss\n",
    "        loss = criterion(outputs, labels)\n",
    "\n",
    "        # Compute the accuracy\n",
    "        _, preds = torch.max(outputs, 1)\n",
    "        acc = torch.sum(preds == labels).item() / batch_size\n",
    "\n",
    "        # Accumulate test loss and accuracy\n",
    "        test_loss += loss.item()\n",
    "        test_acc += acc\n",
    "\n",
    "# Calculate the average test loss and accuracy\n",
    "avg_test_loss = test_loss / len(testloader)\n",
    "avg_test_acc = test_acc / len(testloader)\n",
    "\n",
    "# Print the test results\n",
    "print('Test Loss: %.3f Test Accuracy: %.3f' % (avg_test_loss, avg_test_acc * 100))"
   ]
  }
 ],
 "metadata": {
  "kernelspec": {
   "display_name": "Python 3 (ipykernel)",
   "language": "python",
   "name": "python3"
  },
  "language_info": {
   "codemirror_mode": {
    "name": "ipython",
    "version": 3
   },
   "file_extension": ".py",
   "mimetype": "text/x-python",
   "name": "python",
   "nbconvert_exporter": "python",
   "pygments_lexer": "ipython3",
   "version": "3.9.12"
  }
 },
 "nbformat": 4,
 "nbformat_minor": 4
}
