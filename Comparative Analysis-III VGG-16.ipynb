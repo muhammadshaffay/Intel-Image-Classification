{
 "cells": [
  {
   "cell_type": "code",
   "execution_count": 1,
   "metadata": {
    "execution": {
     "iopub.execute_input": "2023-09-19T16:38:18.522694Z",
     "iopub.status.busy": "2023-09-19T16:38:18.522424Z",
     "iopub.status.idle": "2023-09-19T16:38:18.533637Z",
     "shell.execute_reply": "2023-09-19T16:38:18.532440Z",
     "shell.execute_reply.started": "2023-09-19T16:38:18.522667Z"
    }
   },
   "outputs": [],
   "source": [
    "import warnings\n",
    "\n",
    "# Ignore all warnings\n",
    "warnings.filterwarnings(\"ignore\")"
   ]
  },
  {
   "cell_type": "markdown",
   "metadata": {},
   "source": [
    "## VGG-16"
   ]
  },
  {
   "cell_type": "markdown",
   "metadata": {},
   "source": [
    "#### Imports"
   ]
  },
  {
   "cell_type": "code",
   "execution_count": 2,
   "metadata": {
    "execution": {
     "iopub.execute_input": "2023-09-19T16:38:18.539998Z",
     "iopub.status.busy": "2023-09-19T16:38:18.539696Z",
     "iopub.status.idle": "2023-09-19T16:38:23.826637Z",
     "shell.execute_reply": "2023-09-19T16:38:23.823306Z",
     "shell.execute_reply.started": "2023-09-19T16:38:18.539971Z"
    }
   },
   "outputs": [],
   "source": [
    "import torch\n",
    "import torchvision\n",
    "import torchvision.transforms as transforms\n",
    "import torch.nn as nn\n",
    "import torch.optim as optim\n",
    "import matplotlib.pyplot as plt\n",
    "import numpy as np\n",
    "\n",
    "import torchvision.models as models"
   ]
  },
  {
   "cell_type": "markdown",
   "metadata": {},
   "source": [
    "#### Hyperparameters"
   ]
  },
  {
   "cell_type": "code",
   "execution_count": 3,
   "metadata": {
    "execution": {
     "iopub.execute_input": "2023-09-19T16:38:23.829714Z",
     "iopub.status.busy": "2023-09-19T16:38:23.828595Z",
     "iopub.status.idle": "2023-09-19T16:38:23.848622Z",
     "shell.execute_reply": "2023-09-19T16:38:23.841340Z",
     "shell.execute_reply.started": "2023-09-19T16:38:23.829677Z"
    }
   },
   "outputs": [],
   "source": [
    "batch_size = 128\n",
    "num_epochs = 5\n",
    "learning_rate = 0.05\n",
    "\n",
    "transform = transforms.Compose(\n",
    "  [transforms.Resize((224, 224)), # Resize images to 224x224 pixels\n",
    "  transforms.ToTensor(), # Convert images to tensors\n",
    "  transforms.Normalize((0.425, 0.415, 0.405), (0.205, 0.205, 0.205))]) # Normalize images"
   ]
  },
  {
   "cell_type": "markdown",
   "metadata": {},
   "source": [
    "#### Train-Validation-Test Sets"
   ]
  },
  {
   "cell_type": "code",
   "execution_count": 4,
   "metadata": {
    "execution": {
     "iopub.execute_input": "2023-09-19T16:38:23.850558Z",
     "iopub.status.busy": "2023-09-19T16:38:23.850165Z",
     "iopub.status.idle": "2023-09-19T16:38:29.743426Z",
     "shell.execute_reply": "2023-09-19T16:38:29.742019Z",
     "shell.execute_reply.started": "2023-09-19T16:38:23.850526Z"
    }
   },
   "outputs": [
    {
     "name": "stdout",
     "output_type": "stream",
     "text": [
      "Training Set Images : 13333\n",
      "Training Set Images : 701\n"
     ]
    }
   ],
   "source": [
    "TRAIN_PATH = \"/kaggle/input/intel-image-classification/seg_train/seg_train\"\n",
    "trainset = torchvision.datasets.ImageFolder(root=TRAIN_PATH, transform=transform)\n",
    "\n",
    "validation_size = int(0.05 * len(trainset))\n",
    "training_size = len(trainset) - validation_size\n",
    "\n",
    "trainset , validationset = torch.utils.data.random_split(trainset, [training_size,validation_size]) \n",
    "\n",
    "trainloader = torch.utils.data.DataLoader(trainset, batch_size=batch_size, shuffle=True)\n",
    "print(f\"Training Set Images : {len(trainset)}\")\n",
    "\n",
    "validationloader = torch.utils.data.DataLoader(validationset, batch_size=batch_size, shuffle=True)\n",
    "print(f\"Training Set Images : {len(validationset)}\")"
   ]
  },
  {
   "cell_type": "code",
   "execution_count": 5,
   "metadata": {
    "execution": {
     "iopub.execute_input": "2023-09-19T16:38:29.746778Z",
     "iopub.status.busy": "2023-09-19T16:38:29.746012Z",
     "iopub.status.idle": "2023-09-19T16:38:30.124940Z",
     "shell.execute_reply": "2023-09-19T16:38:30.123942Z",
     "shell.execute_reply.started": "2023-09-19T16:38:29.746728Z"
    }
   },
   "outputs": [
    {
     "name": "stdout",
     "output_type": "stream",
     "text": [
      "Testing Set Images : 3000\n"
     ]
    }
   ],
   "source": [
    "TEST_PATH = \"/kaggle/input/intel-image-classification/seg_test/seg_test\"\n",
    "testset = torchvision.datasets.ImageFolder(root=TEST_PATH, transform=transform)\n",
    "testloader = torch.utils.data.DataLoader(testset, batch_size=batch_size, shuffle=False)\n",
    "print(f\"Testing Set Images : {len(testset)}\")"
   ]
  },
  {
   "cell_type": "markdown",
   "metadata": {},
   "source": [
    "#### Activate GPU"
   ]
  },
  {
   "cell_type": "code",
   "execution_count": 6,
   "metadata": {
    "execution": {
     "iopub.execute_input": "2023-09-19T16:38:30.126792Z",
     "iopub.status.busy": "2023-09-19T16:38:30.126458Z",
     "iopub.status.idle": "2023-09-19T16:38:30.197563Z",
     "shell.execute_reply": "2023-09-19T16:38:30.196299Z",
     "shell.execute_reply.started": "2023-09-19T16:38:30.126760Z"
    }
   },
   "outputs": [
    {
     "data": {
      "text/plain": [
       "'cuda'"
      ]
     },
     "execution_count": 6,
     "metadata": {},
     "output_type": "execute_result"
    }
   ],
   "source": [
    "device = \"cuda\" if torch.cuda.is_available() else \"cpu\"\n",
    "device"
   ]
  },
  {
   "cell_type": "markdown",
   "metadata": {},
   "source": [
    "#### Fine-Tune"
   ]
  },
  {
   "cell_type": "code",
   "execution_count": 7,
   "metadata": {
    "execution": {
     "iopub.execute_input": "2023-09-19T16:38:30.201216Z",
     "iopub.status.busy": "2023-09-19T16:38:30.200896Z",
     "iopub.status.idle": "2023-09-19T16:38:37.481902Z",
     "shell.execute_reply": "2023-09-19T16:38:37.480790Z",
     "shell.execute_reply.started": "2023-09-19T16:38:30.201189Z"
    }
   },
   "outputs": [
    {
     "name": "stderr",
     "output_type": "stream",
     "text": [
      "Downloading: \"https://download.pytorch.org/models/vgg16-397923af.pth\" to /root/.cache/torch/hub/checkpoints/vgg16-397923af.pth\n",
      "100%|██████████| 528M/528M [00:02<00:00, 261MB/s]  \n"
     ]
    },
    {
     "data": {
      "text/plain": [
       "VGG(\n",
       "  (features): Sequential(\n",
       "    (0): Conv2d(3, 64, kernel_size=(3, 3), stride=(1, 1), padding=(1, 1))\n",
       "    (1): ReLU(inplace=True)\n",
       "    (2): Conv2d(64, 64, kernel_size=(3, 3), stride=(1, 1), padding=(1, 1))\n",
       "    (3): ReLU(inplace=True)\n",
       "    (4): MaxPool2d(kernel_size=2, stride=2, padding=0, dilation=1, ceil_mode=False)\n",
       "    (5): Conv2d(64, 128, kernel_size=(3, 3), stride=(1, 1), padding=(1, 1))\n",
       "    (6): ReLU(inplace=True)\n",
       "    (7): Conv2d(128, 128, kernel_size=(3, 3), stride=(1, 1), padding=(1, 1))\n",
       "    (8): ReLU(inplace=True)\n",
       "    (9): MaxPool2d(kernel_size=2, stride=2, padding=0, dilation=1, ceil_mode=False)\n",
       "    (10): Conv2d(128, 256, kernel_size=(3, 3), stride=(1, 1), padding=(1, 1))\n",
       "    (11): ReLU(inplace=True)\n",
       "    (12): Conv2d(256, 256, kernel_size=(3, 3), stride=(1, 1), padding=(1, 1))\n",
       "    (13): ReLU(inplace=True)\n",
       "    (14): Conv2d(256, 256, kernel_size=(3, 3), stride=(1, 1), padding=(1, 1))\n",
       "    (15): ReLU(inplace=True)\n",
       "    (16): MaxPool2d(kernel_size=2, stride=2, padding=0, dilation=1, ceil_mode=False)\n",
       "    (17): Conv2d(256, 512, kernel_size=(3, 3), stride=(1, 1), padding=(1, 1))\n",
       "    (18): ReLU(inplace=True)\n",
       "    (19): Conv2d(512, 512, kernel_size=(3, 3), stride=(1, 1), padding=(1, 1))\n",
       "    (20): ReLU(inplace=True)\n",
       "    (21): Conv2d(512, 512, kernel_size=(3, 3), stride=(1, 1), padding=(1, 1))\n",
       "    (22): ReLU(inplace=True)\n",
       "    (23): MaxPool2d(kernel_size=2, stride=2, padding=0, dilation=1, ceil_mode=False)\n",
       "    (24): Conv2d(512, 512, kernel_size=(3, 3), stride=(1, 1), padding=(1, 1))\n",
       "    (25): ReLU(inplace=True)\n",
       "    (26): Conv2d(512, 512, kernel_size=(3, 3), stride=(1, 1), padding=(1, 1))\n",
       "    (27): ReLU(inplace=True)\n",
       "    (28): Conv2d(512, 512, kernel_size=(3, 3), stride=(1, 1), padding=(1, 1))\n",
       "    (29): ReLU(inplace=True)\n",
       "    (30): MaxPool2d(kernel_size=2, stride=2, padding=0, dilation=1, ceil_mode=False)\n",
       "  )\n",
       "  (avgpool): AdaptiveAvgPool2d(output_size=(7, 7))\n",
       "  (classifier): Sequential(\n",
       "    (0): Linear(in_features=25088, out_features=4096, bias=True)\n",
       "    (1): ReLU(inplace=True)\n",
       "    (2): Dropout(p=0.5, inplace=False)\n",
       "    (3): Linear(in_features=4096, out_features=4096, bias=True)\n",
       "    (4): ReLU(inplace=True)\n",
       "    (5): Dropout(p=0.5, inplace=False)\n",
       "    (6): Linear(in_features=4096, out_features=6, bias=True)\n",
       "  )\n",
       ")"
      ]
     },
     "execution_count": 7,
     "metadata": {},
     "output_type": "execute_result"
    }
   ],
   "source": [
    "vgg16 = models.vgg16(pretrained=True)\n",
    "\n",
    "# Setting up final layer (6 Classes)\n",
    "num_classes = 6\n",
    "vgg16.classifier[6] = nn.Linear(vgg16.classifier[6].in_features, num_classes)\n",
    "\n",
    "# optimizer and loss function\n",
    "criterion = nn.CrossEntropyLoss()\n",
    "optimizer = optim.Adam(vgg16.parameters(), lr=learning_rate)\n",
    "\n",
    "vgg16.to(device)"
   ]
  },
  {
   "cell_type": "markdown",
   "metadata": {},
   "source": [
    "#### Training"
   ]
  },
  {
   "cell_type": "code",
   "execution_count": 8,
   "metadata": {
    "execution": {
     "iopub.execute_input": "2023-09-19T16:38:50.956830Z",
     "iopub.status.busy": "2023-09-19T16:38:50.956112Z",
     "iopub.status.idle": "2023-09-19T16:59:59.946922Z",
     "shell.execute_reply": "2023-09-19T16:59:59.945634Z",
     "shell.execute_reply.started": "2023-09-19T16:38:50.956794Z"
    }
   },
   "outputs": [
    {
     "name": "stdout",
     "output_type": "stream",
     "text": [
      "\n",
      "\n",
      "Processing Epoch : 1\n",
      "[1,    50] loss: 71243762936139849728.000 acc: 0.165\n",
      "[1,   100] loss: 62.435 acc: 0.175\n",
      "\n",
      "\n",
      "Processing Epoch : 2\n",
      "[2,    50] loss: 1.834 acc: 0.157\n",
      "[2,   100] loss: 1.802 acc: 0.172\n",
      "\n",
      "\n",
      "Processing Epoch : 3\n",
      "[3,    50] loss: 1.800 acc: 0.163\n",
      "[3,   100] loss: 1.794 acc: 0.170\n",
      "\n",
      "\n",
      "Processing Epoch : 4\n",
      "[4,    50] loss: 1.793 acc: 0.175\n",
      "[4,   100] loss: 1.792 acc: 0.177\n",
      "\n",
      "\n",
      "Processing Epoch : 5\n",
      "[5,    50] loss: 1.792 acc: 0.168\n",
      "[5,   100] loss: 1.792 acc: 0.176\n"
     ]
    }
   ],
   "source": [
    "train_losses = []\n",
    "train_accuracies = []\n",
    "\n",
    "# Training Mode : On\n",
    "vgg16.train()  \n",
    "    \n",
    "for epoch in range(num_epochs):\n",
    "    \n",
    "    print(f\"\\n\\nProcessing Epoch : {epoch + 1}\")\n",
    "    \n",
    "    running_loss = 0.0\n",
    "    running_acc = 0.0\n",
    "    \n",
    "    for i, data in enumerate(trainloader):\n",
    "        inputs, labels = data\n",
    "        inputs = inputs.to(device)\n",
    "        labels = labels.to(device)\n",
    "        \n",
    "        optimizer.zero_grad()\n",
    "        \n",
    "        outputs = vgg16(inputs).to(device)\n",
    "        loss = criterion(outputs, labels)\n",
    "        \n",
    "        _, preds = torch.max(outputs, 1)\n",
    "        acc = torch.sum(preds == labels).item() / batch_size\n",
    "        \n",
    "        loss.backward()\n",
    "        optimizer.step()\n",
    "        \n",
    "        running_loss += loss.item()\n",
    "        running_acc += acc\n",
    "        \n",
    "        if i % 50 == 49:\n",
    "            print('[%d, %5d] loss: %.3f acc: %.3f' % (epoch + 1, i + 1, running_loss / 50, running_acc / 50))\n",
    "            running_loss = 0.0\n",
    "            running_acc = 0.0\n",
    "\n",
    "    # Calculate training loss and accuracy for the epoch\n",
    "    epoch_train_loss = running_loss / len(trainloader)\n",
    "    epoch_train_acc = running_acc / len(trainloader)\n",
    "    \n",
    "    # Append training loss and accuracy to the lists\n",
    "    train_losses.append(epoch_train_loss)\n",
    "    train_accuracies.append(epoch_train_acc)"
   ]
  },
  {
   "cell_type": "markdown",
   "metadata": {},
   "source": [
    "#### Validating"
   ]
  },
  {
   "cell_type": "code",
   "execution_count": 10,
   "metadata": {
    "execution": {
     "iopub.execute_input": "2023-09-19T17:02:39.253582Z",
     "iopub.status.busy": "2023-09-19T17:02:39.253175Z",
     "iopub.status.idle": "2023-09-19T17:02:44.528564Z",
     "shell.execute_reply": "2023-09-19T17:02:44.526607Z",
     "shell.execute_reply.started": "2023-09-19T17:02:39.253552Z"
    }
   },
   "outputs": [
    {
     "name": "stdout",
     "output_type": "stream",
     "text": [
      "Validation Loss: 1.790 Validation Accuracy: 0.172\n"
     ]
    }
   ],
   "source": [
    "val_losses = []\n",
    "val_accuracies = []\n",
    "\n",
    "# Evaluation Mode : On\n",
    "vgg16.eval()  \n",
    "\n",
    "with torch.no_grad():\n",
    "    for data in validationloader:\n",
    "        inputs, labels = data\n",
    "        inputs = inputs.to(device)\n",
    "        labels = labels.to(device)\n",
    "        \n",
    "        outputs = vgg16(inputs)\n",
    "        loss = criterion(outputs, labels)\n",
    "        \n",
    "        _, preds = torch.max(outputs, 1)\n",
    "        acc = torch.sum(preds == labels).item() / batch_size\n",
    "\n",
    "        # Append validation loss and accuracy to the lists\n",
    "        val_losses.append(loss.item())\n",
    "        val_accuracies.append(acc)\n",
    "\n",
    "print('Validation Loss: %.3f Validation Accuracy: %.3f' % (np.mean(val_losses), np.mean(val_accuracies)))"
   ]
  },
  {
   "cell_type": "markdown",
   "metadata": {},
   "source": [
    "#### Testing"
   ]
  },
  {
   "cell_type": "code",
   "execution_count": 11,
   "metadata": {
    "execution": {
     "iopub.execute_input": "2023-09-19T17:02:44.536497Z",
     "iopub.status.busy": "2023-09-19T17:02:44.536002Z",
     "iopub.status.idle": "2023-09-19T17:03:18.478171Z",
     "shell.execute_reply": "2023-09-19T17:03:18.477150Z",
     "shell.execute_reply.started": "2023-09-19T17:02:44.536463Z"
    }
   },
   "outputs": [
    {
     "name": "stdout",
     "output_type": "stream",
     "text": [
      "Test Loss: 1.790 Test Accuracy: 0.171\n"
     ]
    }
   ],
   "source": [
    "test_losses = []\n",
    "test_accuracies = []\n",
    "\n",
    "with torch.no_grad():\n",
    "    for data in testloader:\n",
    "        inputs, labels = data\n",
    "        inputs = inputs.to(device)\n",
    "        labels = labels.to(device)\n",
    "        \n",
    "        outputs = vgg16(inputs)\n",
    "        loss = criterion(outputs, labels)\n",
    "        \n",
    "        _, preds = torch.max(outputs, 1)\n",
    "        acc = torch.sum(preds == labels).item() / batch_size\n",
    "\n",
    "        # Append test loss and accuracy to the lists\n",
    "        test_losses.append(loss.item())\n",
    "        test_accuracies.append(acc)\n",
    "\n",
    "print('Test Loss: %.3f Test Accuracy: %.3f' % (np.mean(test_losses), np.mean(test_accuracies)))"
   ]
  },
  {
   "cell_type": "markdown",
   "metadata": {},
   "source": [
    "#### Visualization"
   ]
  },
  {
   "cell_type": "code",
   "execution_count": 12,
   "metadata": {
    "execution": {
     "iopub.execute_input": "2023-09-19T17:03:18.481519Z",
     "iopub.status.busy": "2023-09-19T17:03:18.479543Z",
     "iopub.status.idle": "2023-09-19T17:03:18.861553Z",
     "shell.execute_reply": "2023-09-19T17:03:18.860572Z",
     "shell.execute_reply.started": "2023-09-19T17:03:18.481481Z"
    }
   },
   "outputs": [
    {
     "data": {
      "image/png": "[encoded data removed]",
      "text/plain": [
       "<Figure size 1000x500 with 1 Axes>"
      ]
     },
     "metadata": {},
     "output_type": "display_data"
    }
   ],
   "source": [
    "# Plot training and validation losses\n",
    "plt.figure(figsize=(10, 5))\n",
    "plt.plot(train_losses, label='Training Loss')\n",
    "plt.plot(val_losses, label='Validation Loss')\n",
    "\n",
    "plt.xlabel('Epoch')\n",
    "plt.ylabel('Loss')\n",
    "\n",
    "plt.title('Training and Validation Losses')\n",
    "plt.legend()\n",
    "\n",
    "plt.show()"
   ]
  },
  {
   "cell_type": "code",
   "execution_count": 13,
   "metadata": {
    "execution": {
     "iopub.execute_input": "2023-09-19T17:03:18.864683Z",
     "iopub.status.busy": "2023-09-19T17:03:18.864027Z",
     "iopub.status.idle": "2023-09-19T17:03:19.188066Z",
     "shell.execute_reply": "2023-09-19T17:03:19.186973Z",
     "shell.execute_reply.started": "2023-09-19T17:03:18.864644Z"
    }
   },
   "outputs": [
    {
     "data": {
      "image/png": "[encoded data removed]",
      "text/plain": [
       "<Figure size 1000x500 with 1 Axes>"
      ]
     },
     "metadata": {},
     "output_type": "display_data"
    }
   ],
   "source": [
    "# Plot training and validation accuracies\n",
    "plt.figure(figsize=(10, 5))\n",
    "plt.plot(train_accuracies, label='Training Accuracy')\n",
    "plt.plot(val_accuracies, label='Validation Accuracy')\n",
    "\n",
    "plt.xlabel('Epoch')\n",
    "plt.ylabel('Accuracy')\n",
    "\n",
    "plt.title('Training and Validation Accuracy')\n",
    "plt.legend()\n",
    "\n",
    "plt.show()"
   ]
  }
 ],
 "metadata": {
  "kernelspec": {
   "display_name": "Python 3 (ipykernel)",
   "language": "python",
   "name": "python3"
  },
  "language_info": {
   "codemirror_mode": {
    "name": "ipython",
    "version": 3
   },
   "file_extension": ".py",
   "mimetype": "text/x-python",
   "name": "python",
   "nbconvert_exporter": "python",
   "pygments_lexer": "ipython3",
   "version": "3.9.12"
  }
 },
 "nbformat": 4,
 "nbformat_minor": 4
}
